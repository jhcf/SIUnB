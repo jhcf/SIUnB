{
 "cells": [
  {
   "cell_type": "code",
   "execution_count": 92,
   "id": "3731bab7-9460-4fa3-8b38-07baad0bda6d",
   "metadata": {},
   "outputs": [],
   "source": [
    "from ics import Calendar, Event\n",
    "import pandas\n",
    "\n",
    "Json_to_Eventos()"
   ]
  },
  {
   "cell_type": "code",
   "execution_count": 91,
   "id": "c947536d-bd84-4cde-baff-4417a34d2abe",
   "metadata": {},
   "outputs": [],
   "source": [
    "def Json_to_Eventos():#abre o json e pega seus eventos, depois os coloca no .ics\n",
    "    c = Calendar()\n",
    "    data = pandas.read_json('Eventos.json')\n",
    "    for evento in data['eventos']:\n",
    "        nome = (evento['nome'])\n",
    "        categoria = (evento['categoria'])\n",
    "        description = (evento['description'])\n",
    "        tipo = (evento['tipo'])\n",
    "        dias = (evento['dias'])\n",
    "        horas = (evento['horas'])\n",
    "        osm = (evento['osm'])\n",
    "        wikidata = (evento['wikidata'])\n",
    "        wikipedia = (evento['wikipedia'])\n",
    "        facebook = (evento['facebook'])\n",
    "        instagram = (evento['instagram'])\n",
    "        twitter = (evento['twitter'])\n",
    "        youtube = (evento['youtube'])\n",
    "        teams = (evento['teams'])\n",
    "        stream = (evento['stream'])\n",
    "        DefEv(nome, categoria, description, tipo, dias, horas, osm, wikidata, wikipedia, facebook, instagram, twitter, youtube, teams, stream, c)\n",
    "    with open('calendario.ics', 'w') as my_file:\n",
    "         my_file.writelines(c)\n",
    "    "
   ]
  },
  {
   "cell_type": "code",
   "execution_count": 70,
   "id": "040d64a2-bede-487f-95d3-f306a54c8743",
   "metadata": {},
   "outputs": [],
   "source": [
    "#Define e adiciona o evento no calendario dependendo do tipo\n",
    "def DefEv (nome, categoria, description, tipo, dias, horas, osm, wikidata, wikipedia, facebook, instagram, twitter, youtube, teams, stream, c):\n",
    "    if  tipo == \"1\": #quando o evento só acontece em um dia\n",
    "        DefEv1(nome, categoria, description, tipo, dias, horas, osm, wikidata, wikipedia, facebook, instagram, twitter, youtube, teams, stream, c)\n",
    "    elif tipo == \"2\": #quando o evento acontece em mais de um dia\n",
    "        nOcorrencias = dias.count(',') + 1 #número de vezes que o evento occore\n",
    "        Descricao = ConcatenarDescrição(categoria, description, wikidata, wikipedia, facebook, instagram, twitter, youtube, teams, stream)\n",
    "        i = 1\n",
    "        while(i <= nOcorrencias):\n",
    "            DefEv2(i, nOcorrencias, nome, Descricao, osm, horas, dias, c)\n",
    "            i = i+1"
   ]
  },
  {
   "cell_type": "code",
   "execution_count": 71,
   "id": "be75924e-c9b2-4017-b2ff-6a9013d3520a",
   "metadata": {},
   "outputs": [],
   "source": [
    "#concatena (categoria, description, wikidata, wikipedia, facebook, instagram, twitter, youtube, teams, stream) para formar a descrição do evento\n",
    "def ConcatenarDescrição (categoria, description, wikidata, wikipedia, facebook, instagram, twitter, youtube, teams, stream):\n",
    "    Descricao = \"\"\n",
    "    if categoria != \"\":\n",
    "        Descricao = Descricao + \"Categorias:\" + categoria + \"\\n\"\n",
    "    if description != \"\":\n",
    "        Descricao = Descricao + \"Descrição:\" + description + \"\\n\"\n",
    "    if wikidata != \"\":\n",
    "        Descricao = Descricao + \"wikidata:\" + wikidata + \"\\n\"\n",
    "    if wikipedia != \"\":\n",
    "        Descricao = Descricao + \"wikipedia:\" + wikipedia + \"\\n\"\n",
    "    if facebook != \"\":\n",
    "        Descricao = Descricao + \"facebook:\" + facebook + \"\\n\"\n",
    "    if instagram != \"\":\n",
    "        Descricao = Descricao + \"instagram:\" + instagram + \"\\n\"\n",
    "    if twitter != \"\":\n",
    "        Descricao = Descricao + \"twitter:\" + twitter + \"\\n\"\n",
    "    if youtube != \"\":\n",
    "        Descricao = Descricao + \"youtube:\" + youtube + \"\\n\"\n",
    "    if teams != \"\":\n",
    "        Descricao = Descricao + \"teams:\" + teams + \"\\n\"\n",
    "    if stream != \"\":\n",
    "        Descricao = Descricao + \"stream:\" + stream\n",
    "        \n",
    "    return Descricao"
   ]
  },
  {
   "cell_type": "code",
   "execution_count": 76,
   "id": "9337fba0-fe69-4856-8862-a1a7c753c661",
   "metadata": {},
   "outputs": [],
   "source": [
    "#definicao de evento do tipo 2, evento que ocorre em mais de um dia e o coloca no calendario\n",
    "def DefEv2(i, nOcorrencias, nome, Descricao, osm, horas, dias, c):\n",
    "        a = Event()\n",
    "        auxH=(i - 1)*11 + i-1\n",
    "        auxD=((i - 1)*10)+i-1\n",
    "        a.name = \"[\" + str(i)  + \"/\"+ str(nOcorrencias) +']' + nome\n",
    "        a.description =  Descricao\n",
    "        a.location = osm\n",
    "        soma= int(horas[0+ auxH:2+ auxH])\n",
    "        soma = soma + 3\n",
    "        strsoma= str(soma)\n",
    "        hinicio=dias[0 +auxD:4 +auxD] + '-'+dias[5+auxD:7+auxD] + '-' + dias[8+auxD:10+auxD] + ' ' + strsoma+ horas[2+ auxH:5+ auxH]+ ':00'\n",
    "        soma = int(horas[6+ auxH:8+ auxH])\n",
    "        soma = soma + 3\n",
    "        strsoma= str(soma)\n",
    "        hfinal= dias[0 +auxD:4 +auxD] + '-'+dias[5+auxD:7+auxD] + '-' + dias[8+auxD:10+auxD] + ' ' + strsoma + horas[8+auxH:11+auxH]+ ':00' \n",
    "        a.begin =hinicio\n",
    "        a.end = hfinal\n",
    "        c.events.add(a)"
   ]
  },
  {
   "cell_type": "code",
   "execution_count": 77,
   "id": "6bf75773-7d50-48b0-a0e3-75d0eef06564",
   "metadata": {},
   "outputs": [],
   "source": [
    "#definicao de evento quando o evento acontece somente em um dia e o coloca no calendario\n",
    "def DefEv1(nome, categoria, description, tipo, dias, horas, osm, wikidata, wikipedia, facebook, instagram, twitter, youtube, teams, stream, c):\n",
    "    e = Event()\n",
    "    e.name = nome\n",
    "    Descricao = ConcatenarDescrição(categoria, description, wikidata, wikipedia, facebook, instagram, twitter, youtube, teams, stream)\n",
    "    e.description =  Descricao\n",
    "    e.location = osm\n",
    "    soma = int(horas[0:2])\n",
    "    soma = soma + 3\n",
    "    strsoma= str(soma)\n",
    "    hinicio=dias[0:4] + '-'+dias[5:7] + '-' + dias[8:10] + ' ' + strsoma+ horas[2:5]+ ':00' \n",
    "    soma = int(horas[6:8])\n",
    "    soma = soma + 3\n",
    "    strsoma= str(soma)\n",
    "    hfinal= dias[0:4] + '-'+dias[5:7] + '-' + dias[8:10] + ' ' + strsoma + horas[8:11]+ ':00' \n",
    "    e.begin =hinicio\n",
    "    e.end = hfinal\n",
    "    c.events.add(e)"
   ]
  },
  {
   "cell_type": "code",
   "execution_count": null,
   "id": "4de7724b-b552-497f-8ac0-2c20c80ed3b3",
   "metadata": {},
   "outputs": [],
   "source": []
  }
 ],
 "metadata": {
  "kernelspec": {
   "display_name": "Python 3",
   "language": "python",
   "name": "python3"
  },
  "language_info": {
   "codemirror_mode": {
    "name": "ipython",
    "version": 3
   },
   "file_extension": ".py",
   "mimetype": "text/x-python",
   "name": "python",
   "nbconvert_exporter": "python",
   "pygments_lexer": "ipython3",
   "version": "3.8.8"
  }
 },
 "nbformat": 4,
 "nbformat_minor": 5
}
